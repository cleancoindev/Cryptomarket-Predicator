{
 "cells": [
  {
   "cell_type": "markdown",
   "metadata": {},
   "source": [
    "# Cryptomarket Predicator\n",
    "#### Predict BTC-(altcoin) using Recurrent Neural Network RNN"
   ]
  },
  {
   "cell_type": "code",
   "execution_count": 1,
   "metadata": {},
   "outputs": [],
   "source": [
    "# Currency use in comparison to Bitcoin.\n",
    "currency = 'POWR'"
   ]
  },
  {
   "cell_type": "code",
   "execution_count": 2,
   "metadata": {},
   "outputs": [
    {
     "name": "stderr",
     "output_type": "stream",
     "text": [
      "/usr/local/Cellar/python3/3.6.3/Frameworks/Python.framework/Versions/3.6/lib/python3.6/importlib/_bootstrap.py:219: RuntimeWarning: compiletime version 3.5 of module 'tensorflow.python.framework.fast_tensor_util' does not match runtime version 3.6\n",
      "  return f(*args, **kwds)\n"
     ]
    }
   ],
   "source": [
    "# Dependencies\n",
    "import tensorflow as tf\n",
    "import pandas as pd \n",
    "import numpy as np\n",
    "import matplotlib.pyplot as plt\n",
    "%matplotlib inline"
   ]
  },
  {
   "cell_type": "markdown",
   "metadata": {},
   "source": [
    "## Read & Process data"
   ]
  },
  {
   "cell_type": "code",
   "execution_count": 3,
   "metadata": {},
   "outputs": [
    {
     "data": {
      "text/html": [
       "<div>\n",
       "<style scoped>\n",
       "    .dataframe tbody tr th:only-of-type {\n",
       "        vertical-align: middle;\n",
       "    }\n",
       "\n",
       "    .dataframe tbody tr th {\n",
       "        vertical-align: top;\n",
       "    }\n",
       "\n",
       "    .dataframe thead th {\n",
       "        text-align: right;\n",
       "    }\n",
       "</style>\n",
       "<table border=\"1\" class=\"dataframe\">\n",
       "  <thead>\n",
       "    <tr style=\"text-align: right;\">\n",
       "      <th></th>\n",
       "      <th>Price</th>\n",
       "      <th>PriceTarget</th>\n",
       "      <th>MACD</th>\n",
       "      <th>Stochastics</th>\n",
       "      <th>ATR</th>\n",
       "    </tr>\n",
       "  </thead>\n",
       "  <tbody>\n",
       "    <tr>\n",
       "      <th>0</th>\n",
       "      <td>0.000036</td>\n",
       "      <td>0.000036</td>\n",
       "      <td>-1.308299e-08</td>\n",
       "      <td>23.157895</td>\n",
       "      <td>1.000000e-08</td>\n",
       "    </tr>\n",
       "    <tr>\n",
       "      <th>1</th>\n",
       "      <td>0.000036</td>\n",
       "      <td>0.000036</td>\n",
       "      <td>-6.009042e-09</td>\n",
       "      <td>36.666667</td>\n",
       "      <td>1.000000e-08</td>\n",
       "    </tr>\n",
       "  </tbody>\n",
       "</table>\n",
       "</div>"
      ],
      "text/plain": [
       "      Price  PriceTarget          MACD  Stochastics           ATR\n",
       "0  0.000036     0.000036 -1.308299e-08    23.157895  1.000000e-08\n",
       "1  0.000036     0.000036 -6.009042e-09    36.666667  1.000000e-08"
      ]
     },
     "execution_count": 3,
     "metadata": {},
     "output_type": "execute_result"
    }
   ],
   "source": [
    "dataset = pd.read_csv('../input/BTC'+currency+'_techIndicators.csv')\n",
    "dataset.head(2)"
   ]
  },
  {
   "cell_type": "code",
   "execution_count": 4,
   "metadata": {},
   "outputs": [],
   "source": [
    "### Normalisation"
   ]
  },
  {
   "cell_type": "code",
   "execution_count": 5,
   "metadata": {},
   "outputs": [
    {
     "data": {
      "text/html": [
       "<div>\n",
       "<style scoped>\n",
       "    .dataframe tbody tr th:only-of-type {\n",
       "        vertical-align: middle;\n",
       "    }\n",
       "\n",
       "    .dataframe tbody tr th {\n",
       "        vertical-align: top;\n",
       "    }\n",
       "\n",
       "    .dataframe thead th {\n",
       "        text-align: right;\n",
       "    }\n",
       "</style>\n",
       "<table border=\"1\" class=\"dataframe\">\n",
       "  <thead>\n",
       "    <tr style=\"text-align: right;\">\n",
       "      <th></th>\n",
       "      <th>Price</th>\n",
       "      <th>PriceTarget</th>\n",
       "      <th>MACD</th>\n",
       "      <th>Stochastics</th>\n",
       "      <th>ATR</th>\n",
       "    </tr>\n",
       "  </thead>\n",
       "  <tbody>\n",
       "    <tr>\n",
       "      <th>0</th>\n",
       "      <td>-0.01976</td>\n",
       "      <td>-0.001486</td>\n",
       "      <td>-0.001811</td>\n",
       "      <td>-0.287575</td>\n",
       "      <td>-0.000767</td>\n",
       "    </tr>\n",
       "    <tr>\n",
       "      <th>1</th>\n",
       "      <td>-0.01976</td>\n",
       "      <td>-0.001482</td>\n",
       "      <td>-0.001395</td>\n",
       "      <td>-0.152487</td>\n",
       "      <td>-0.000767</td>\n",
       "    </tr>\n",
       "  </tbody>\n",
       "</table>\n",
       "</div>"
      ],
      "text/plain": [
       "     Price  PriceTarget      MACD  Stochastics       ATR\n",
       "0 -0.01976    -0.001486 -0.001811    -0.287575 -0.000767\n",
       "1 -0.01976    -0.001482 -0.001395    -0.152487 -0.000767"
      ]
     },
     "execution_count": 5,
     "metadata": {},
     "output_type": "execute_result"
    }
   ],
   "source": [
    "datasetNorm = (dataset - dataset.mean()) / (dataset.max() - dataset.min())\n",
    "datasetNorm.head(2)"
   ]
  },
  {
   "cell_type": "markdown",
   "metadata": {},
   "source": [
    "### Hyperparams"
   ]
  },
  {
   "cell_type": "code",
   "execution_count": 6,
   "metadata": {},
   "outputs": [
    {
     "name": "stdout",
     "output_type": "stream",
     "text": [
      "The total series length is: 1986\n",
      "The current configuration gives us 662 batches of 1 observations each one looking 3 steps in the past\n"
     ]
    }
   ],
   "source": [
    "num_epochs = 100\n",
    "\n",
    "batch_size = 1\n",
    "\n",
    "total_series_length = len(dataset.index)\n",
    "\n",
    "truncated_backprop_length = 3 #The size of the sequence\n",
    "\n",
    "state_size = 12 #The number of neurons\n",
    "\n",
    "num_features = 4\n",
    "num_classes = 1 #[1,0]\n",
    "\n",
    "num_batches = total_series_length//batch_size//truncated_backprop_length\n",
    "\n",
    "min_test_size = 100\n",
    "\n",
    "print('The total series length is: %d' %total_series_length)\n",
    "print('The current configuration gives us %d batches of %d observations each one looking %d steps in the past' \n",
    "      %(num_batches,batch_size,truncated_backprop_length))"
   ]
  },
  {
   "cell_type": "markdown",
   "metadata": {},
   "source": [
    "### Train-Test split"
   ]
  },
  {
   "cell_type": "code",
   "execution_count": 7,
   "metadata": {},
   "outputs": [],
   "source": [
    "datasetTrain = datasetNorm[dataset.index < num_batches*batch_size*truncated_backprop_length]\n",
    "\n",
    "for i in range(min_test_size,len(datasetNorm.index)):\n",
    "    \n",
    "    if(i % truncated_backprop_length*batch_size == 0):\n",
    "        test_first_idx = len(datasetNorm.index)-i\n",
    "        break\n",
    "\n",
    "datasetTest =  datasetNorm[dataset.index >= test_first_idx]"
   ]
  },
  {
   "cell_type": "code",
   "execution_count": 8,
   "metadata": {},
   "outputs": [
    {
     "data": {
      "text/html": [
       "<div>\n",
       "<style scoped>\n",
       "    .dataframe tbody tr th:only-of-type {\n",
       "        vertical-align: middle;\n",
       "    }\n",
       "\n",
       "    .dataframe tbody tr th {\n",
       "        vertical-align: top;\n",
       "    }\n",
       "\n",
       "    .dataframe thead th {\n",
       "        text-align: right;\n",
       "    }\n",
       "</style>\n",
       "<table border=\"1\" class=\"dataframe\">\n",
       "  <thead>\n",
       "    <tr style=\"text-align: right;\">\n",
       "      <th></th>\n",
       "      <th>Price</th>\n",
       "      <th>PriceTarget</th>\n",
       "      <th>MACD</th>\n",
       "      <th>Stochastics</th>\n",
       "      <th>ATR</th>\n",
       "    </tr>\n",
       "  </thead>\n",
       "  <tbody>\n",
       "    <tr>\n",
       "      <th>0</th>\n",
       "      <td>-0.01976</td>\n",
       "      <td>-0.001486</td>\n",
       "      <td>-0.001811</td>\n",
       "      <td>-0.287575</td>\n",
       "      <td>-0.000767</td>\n",
       "    </tr>\n",
       "    <tr>\n",
       "      <th>1</th>\n",
       "      <td>-0.01976</td>\n",
       "      <td>-0.001482</td>\n",
       "      <td>-0.001395</td>\n",
       "      <td>-0.152487</td>\n",
       "      <td>-0.000767</td>\n",
       "    </tr>\n",
       "  </tbody>\n",
       "</table>\n",
       "</div>"
      ],
      "text/plain": [
       "     Price  PriceTarget      MACD  Stochastics       ATR\n",
       "0 -0.01976    -0.001486 -0.001811    -0.287575 -0.000767\n",
       "1 -0.01976    -0.001482 -0.001395    -0.152487 -0.000767"
      ]
     },
     "execution_count": 8,
     "metadata": {},
     "output_type": "execute_result"
    }
   ],
   "source": [
    "datasetTrain.head(2)"
   ]
  },
  {
   "cell_type": "code",
   "execution_count": 9,
   "metadata": {},
   "outputs": [
    {
     "data": {
      "text/html": [
       "<div>\n",
       "<style scoped>\n",
       "    .dataframe tbody tr th:only-of-type {\n",
       "        vertical-align: middle;\n",
       "    }\n",
       "\n",
       "    .dataframe tbody tr th {\n",
       "        vertical-align: top;\n",
       "    }\n",
       "\n",
       "    .dataframe thead th {\n",
       "        text-align: right;\n",
       "    }\n",
       "</style>\n",
       "<table border=\"1\" class=\"dataframe\">\n",
       "  <thead>\n",
       "    <tr style=\"text-align: right;\">\n",
       "      <th></th>\n",
       "      <th>Price</th>\n",
       "      <th>PriceTarget</th>\n",
       "      <th>MACD</th>\n",
       "      <th>Stochastics</th>\n",
       "      <th>ATR</th>\n",
       "    </tr>\n",
       "  </thead>\n",
       "  <tbody>\n",
       "    <tr>\n",
       "      <th>1884</th>\n",
       "      <td>-0.043477</td>\n",
       "      <td>-0.002663</td>\n",
       "      <td>-0.006685</td>\n",
       "      <td>0.019308</td>\n",
       "      <td>-0.000510</td>\n",
       "    </tr>\n",
       "    <tr>\n",
       "      <th>1885</th>\n",
       "      <td>-0.043397</td>\n",
       "      <td>-0.002655</td>\n",
       "      <td>-0.003974</td>\n",
       "      <td>0.027855</td>\n",
       "      <td>-0.000567</td>\n",
       "    </tr>\n",
       "  </tbody>\n",
       "</table>\n",
       "</div>"
      ],
      "text/plain": [
       "         Price  PriceTarget      MACD  Stochastics       ATR\n",
       "1884 -0.043477    -0.002663 -0.006685     0.019308 -0.000510\n",
       "1885 -0.043397    -0.002655 -0.003974     0.027855 -0.000567"
      ]
     },
     "execution_count": 9,
     "metadata": {},
     "output_type": "execute_result"
    }
   ],
   "source": [
    "datasetTest.head(2)"
   ]
  },
  {
   "cell_type": "code",
   "execution_count": 10,
   "metadata": {},
   "outputs": [],
   "source": [
    "xTrain = datasetTrain[['Price','MACD','Stochastics','ATR']].as_matrix()\n",
    "yTrain = datasetTrain['PriceTarget'].as_matrix()"
   ]
  },
  {
   "cell_type": "code",
   "execution_count": 11,
   "metadata": {},
   "outputs": [
    {
     "name": "stdout",
     "output_type": "stream",
     "text": [
      "[[-0.01975997 -0.00181098 -0.28757474 -0.00076745]\n",
      " [-0.01975997 -0.00139513 -0.15248702 -0.00076745]\n",
      " [-0.0196793  -0.00104883 -0.13582036 -0.00071845]] \n",
      " [-0.00148608 -0.00148206 -0.00148206]\n"
     ]
    }
   ],
   "source": [
    "print(xTrain[0:3],'\\n',yTrain[0:3])"
   ]
  },
  {
   "cell_type": "code",
   "execution_count": 12,
   "metadata": {},
   "outputs": [],
   "source": [
    "xTest = datasetTest[['Price','MACD','Stochastics','ATR']].as_matrix()\n",
    "yTest = datasetTest['PriceTarget'].as_matrix()"
   ]
  },
  {
   "cell_type": "code",
   "execution_count": 13,
   "metadata": {},
   "outputs": [
    {
     "name": "stdout",
     "output_type": "stream",
     "text": [
      "[[-0.0434773  -0.00668549  0.01930785 -0.00051022]\n",
      " [-0.04339663 -0.00397388  0.02785486 -0.00056738]\n",
      " [-0.04323529 -0.00168649  0.12162301 -0.00068579]] \n",
      " [-0.00266281 -0.00265478 -0.00260257]\n"
     ]
    }
   ],
   "source": [
    "print(xTest[0:3],'\\n',yTest[0:3])"
   ]
  },
  {
   "cell_type": "markdown",
   "metadata": {},
   "source": [
    "## Visualise starting price data"
   ]
  },
  {
   "cell_type": "code",
   "execution_count": 14,
   "metadata": {},
   "outputs": [
    {
     "data": {
      "image/png": "[encoded data removed]",
      "text/plain": [
       "<matplotlib.figure.Figure at 0x109925f28>"
      ]
     },
     "metadata": {},
     "output_type": "display_data"
    },
    {
     "data": {
      "image/png": "[encoded data removed]",
      "text/plain": [
       "<matplotlib.figure.Figure at 0x10a57ce80>"
      ]
     },
     "metadata": {},
     "output_type": "display_data"
    }
   ],
   "source": [
    "plt.figure(figsize=(25,5))\n",
    "plt.plot(xTrain[:,0])\n",
    "plt.title('Train (' +str(len(xTrain))+' data points)')\n",
    "plt.show()\n",
    "plt.figure(figsize=(10,3))\n",
    "plt.plot(xTest[:,0])\n",
    "plt.title('Test (' +str(len(xTest))+' data points)')\n",
    "plt.show()"
   ]
  },
  {
   "cell_type": "markdown",
   "metadata": {},
   "source": [
    "## Placeholders\n",
    "A `placeholder` is simply a variable that we will assign data to at a later date. It allows us to create our operations and build our computation graph, without needing the data. In TensorFlow terminology, we then feed data into the graph through these placeholders."
   ]
  },
  {
   "cell_type": "code",
   "execution_count": 15,
   "metadata": {},
   "outputs": [],
   "source": [
    "batchX_placeholder = tf.placeholder(dtype=tf.float32,shape=[None,truncated_backprop_length,num_features],name='data_ph')\n",
    "batchY_placeholder = tf.placeholder(dtype=tf.float32,shape=[None,truncated_backprop_length,num_classes],name='target_ph')"
   ]
  },
  {
   "cell_type": "markdown",
   "metadata": {},
   "source": [
    "## Weights and biases\n",
    "Weights and biases are the learnable parameters of your model. As well as neural networks, they appear with the same names in related models such as linear regression. Most machine learning algorithms include some learnable parameters like this.\n",
    "\n",
    "Because is a 3 layer net:\n",
    "1. Input\n",
    "2. Hidden Recurrent layer\n",
    "3. Output\n",
    "\n",
    "We need 2 pairs of W and b\n",
    "\n",
    "A TensorFlow `variable` is the best way to represent shared, persistent state manipulated by your program.\n",
    "\n",
    "Variables are manipulated via the tf.Variable class. A `tf.Variable` represents a tensor whose value can be changed by running ops on it. Unlike tf.Tensor objects, a tf.Variable exists outside the context of a single session.run call.\n",
    "\n",
    "Internally, a `tf.Variable` stores a persistent tensor. Specific ops allow you to read and modify the values of this tensor. These modifications are visible across multiple tf.Sessions, so multiple workers can see the same values for a tf.Variable.\n",
    "\n",
    "Besides placeholders, variables are another cornerstone of the TensorFlow universe. While placeholders are used to store input and target data in the graph, variables are used as flexible containers within the graph that are allowed to change during graph execution. Weights and biases are represented as variables in order to adapt during training. Variables need to be initialized, prior to model training."
   ]
  },
  {
   "cell_type": "code",
   "execution_count": 16,
   "metadata": {},
   "outputs": [],
   "source": [
    "W2 = tf.Variable(initial_value=np.random.rand(state_size,num_classes),dtype=tf.float32)\n",
    "b2 = tf.Variable(initial_value=np.random.rand(1,num_classes),dtype=tf.float32)"
   ]
  },
  {
   "cell_type": "markdown",
   "metadata": {},
   "source": [
    "#### Unpack"
   ]
  },
  {
   "cell_type": "code",
   "execution_count": 17,
   "metadata": {},
   "outputs": [],
   "source": [
    "labels_series = tf.unstack(batchY_placeholder, axis=1)"
   ]
  },
  {
   "cell_type": "markdown",
   "metadata": {},
   "source": [
    "## Forward pass"
   ]
  },
  {
   "cell_type": "code",
   "execution_count": 18,
   "metadata": {},
   "outputs": [],
   "source": [
    "cell = tf.contrib.rnn.BasicRNNCell(num_units=state_size)\n",
    "\n",
    "states_series, current_state = tf.nn.dynamic_rnn(cell=cell,inputs=batchX_placeholder,dtype=tf.float32)\n",
    "\n",
    "states_series = tf.transpose(states_series,[1,0,2])"
   ]
  },
  {
   "cell_type": "markdown",
   "metadata": {},
   "source": [
    "## Backward pass"
   ]
  },
  {
   "cell_type": "code",
   "execution_count": 19,
   "metadata": {},
   "outputs": [],
   "source": [
    "last_state = tf.gather(params=states_series,indices=states_series.get_shape()[0]-1)\n",
    "last_label = tf.gather(params=labels_series,indices=len(labels_series)-1)"
   ]
  },
  {
   "cell_type": "markdown",
   "metadata": {},
   "source": [
    "## Weight and bias"
   ]
  },
  {
   "cell_type": "code",
   "execution_count": 20,
   "metadata": {},
   "outputs": [],
   "source": [
    "weight = tf.Variable(tf.truncated_normal([state_size,num_classes]))\n",
    "bias = tf.Variable(tf.constant(0.1,shape=[num_classes]))"
   ]
  },
  {
   "cell_type": "markdown",
   "metadata": {},
   "source": [
    "## Prediction, Loss, Optimaser"
   ]
  },
  {
   "cell_type": "code",
   "execution_count": 21,
   "metadata": {},
   "outputs": [
    {
     "data": {
      "text/plain": [
       "<tf.Tensor 'add:0' shape=(?, 1) dtype=float32>"
      ]
     },
     "execution_count": 21,
     "metadata": {},
     "output_type": "execute_result"
    }
   ],
   "source": [
    "prediction = tf.matmul(last_state,weight) + bias\n",
    "prediction"
   ]
  },
  {
   "cell_type": "markdown",
   "metadata": {},
   "source": [
    "### Cost function\n",
    "The cost function of the network is used to generate a measure of deviation between the network’s predictions and the actual observed training targets. For regression problems, the mean squared error (MSE) function is commonly used. MSE computes the average squared deviation between predictions and targets. Basically, any differentiable function can be implemented in order to compute a deviation measure between predictions and targets.\n",
    "\n",
    "However, the MSE exhibits certain properties that are advantageous for the general optimization problem to be solved."
   ]
  },
  {
   "cell_type": "code",
   "execution_count": 22,
   "metadata": {},
   "outputs": [],
   "source": [
    "# Cost function\n",
    "loss = tf.reduce_mean(tf.squared_difference(last_label,prediction))\n",
    "\n"
   ]
  },
  {
   "cell_type": "markdown",
   "metadata": {},
   "source": [
    "### Optimiser\n",
    "The optimizer takes care of the necessary computations that are used to adapt the network’s weight and bias variables during training. Those computations invoke the calculation of so called gradients, that indicate the direction in which the weights and biases have to be changed during training in order to minimize the network’s cost function. The development of stable and speedy optimizers is a major field in neural network an deep learning research."
   ]
  },
  {
   "cell_type": "code",
   "execution_count": 23,
   "metadata": {},
   "outputs": [
    {
     "name": "stderr",
     "output_type": "stream",
     "text": [
      "/usr/local/lib/python3.6/site-packages/tensorflow/python/ops/gradients_impl.py:96: UserWarning: Converting sparse IndexedSlices to a dense Tensor of unknown shape. This may consume a large amount of memory.\n",
      "  \"Converting sparse IndexedSlices to a dense Tensor of unknown shape. \"\n"
     ]
    }
   ],
   "source": [
    "train_step = tf.train.AdamOptimizer(learning_rate=0.001).minimize(loss)"
   ]
  },
  {
   "cell_type": "markdown",
   "metadata": {},
   "source": [
    "Here the Adam Optimizer is used, which is one of the current default optimizers in deep learning development. Adam stands for “Adaptive Moment Estimation” and can be considered as a combination between two other popular optimizers AdaGrad and RMSProp."
   ]
  },
  {
   "cell_type": "markdown",
   "metadata": {},
   "source": [
    "### Initializers\n",
    "Initializers are used to initialize the network’s variables before training. Since neural networks are trained using numerical optimization techniques, the starting point of the optimization problem is one the key factors to find good solutions to the underlying problem. There are different initializers available in TensorFlow, each with different initialization approaches. Here, I use the `tf.global_variables_initializer()`, which is just a shortcut for `variables_initializer(global_variables())`.\n",
    "\n",
    "### Fitting the neural network\n",
    "After having defined the placeholders, variables, initializers, cost functions and optimizers of the network, the model needs to be trained. Usually, this is done by minibatch training. During minibatch training random data samples of `num_batches` are drawn from the training data and fed into the network. The training dataset gets divided into `batch_idx / num_batches` batches that are sequentially fed into the network. At this point the placeholders `batchX` and `batchY` come into play. They store the input and target data and present them to the network as inputs and targets.\n",
    "\n",
    "A sampled data batch of `batchX` flows through the network until it reaches the output layer. There, TensorFlow compares the models predictions against the actual observed targets `batchY` in the current batch. Afterwards, TensorFlow conducts an optimization step and updates the networks parameters, corresponding to the selected learning scheme. After having updated the **weights** and **biases**, the next batch is sampled and the process repeats itself. The procedure continues until all batches have been presented to the network. One full sweep over all batches is called an **epoch**.\n",
    "\n",
    "The training of the network stops once the maximum number of epochs is reached or another stopping criterion defined by the user applies."
   ]
  },
  {
   "cell_type": "code",
   "execution_count": 24,
   "metadata": {},
   "outputs": [
    {
     "name": "stdout",
     "output_type": "stream",
     "text": [
      "Epoch 0\n",
      "Step 0 - Loss: 0.006390\n",
      "Step 200 - Loss: 0.000001\n",
      "Step 400 - Loss: 0.000295\n",
      "Step 600 - Loss: 0.000496\n",
      "Epoch 1\n",
      "Step 0 - Loss: 0.005391\n",
      "Step 200 - Loss: 0.000398\n",
      "Step 400 - Loss: 0.000002\n",
      "Step 600 - Loss: 0.001157\n",
      "Epoch 2\n",
      "Step 0 - Loss: 0.016574\n",
      "Step 200 - Loss: 0.000015\n",
      "Step 400 - Loss: 0.000070\n",
      "Step 600 - Loss: 0.000535\n",
      "Epoch 3\n",
      "Step 0 - Loss: 0.000084\n",
      "Step 200 - Loss: 0.000105\n",
      "Step 400 - Loss: 0.000333\n",
      "Step 600 - Loss: 0.000025\n",
      "Epoch 4\n",
      "Step 0 - Loss: 0.002917\n",
      "Step 200 - Loss: 0.000000\n",
      "Step 400 - Loss: 0.000058\n",
      "Step 600 - Loss: 0.000105\n",
      "Epoch 5\n",
      "Step 0 - Loss: 0.000701\n",
      "Step 200 - Loss: 0.000166\n",
      "Step 400 - Loss: 0.000110\n",
      "Step 600 - Loss: 0.000083\n",
      "Epoch 6\n",
      "Step 0 - Loss: 0.004826\n",
      "Step 200 - Loss: 0.000002\n",
      "Step 400 - Loss: 0.000023\n",
      "Step 600 - Loss: 0.000079\n",
      "Epoch 7\n",
      "Step 0 - Loss: 0.000618\n",
      "Step 200 - Loss: 0.000155\n",
      "Step 400 - Loss: 0.000117\n",
      "Step 600 - Loss: 0.000016\n",
      "Epoch 8\n",
      "Step 0 - Loss: 0.004181\n",
      "Step 200 - Loss: 0.000000\n",
      "Step 400 - Loss: 0.000021\n",
      "Step 600 - Loss: 0.000015\n",
      "Epoch 9\n",
      "Step 0 - Loss: 0.000494\n",
      "Step 200 - Loss: 0.000065\n",
      "Step 400 - Loss: 0.000098\n",
      "Step 600 - Loss: 0.000003\n",
      "Epoch 10\n",
      "Step 0 - Loss: 0.002382\n",
      "Step 200 - Loss: 0.000001\n",
      "Step 400 - Loss: 0.000016\n",
      "Step 600 - Loss: 0.000001\n",
      "Epoch 11\n",
      "Step 0 - Loss: 0.000765\n",
      "Step 200 - Loss: 0.000047\n",
      "Step 400 - Loss: 0.000064\n",
      "Step 600 - Loss: 0.000009\n",
      "Epoch 12\n",
      "Step 0 - Loss: 0.002529\n",
      "Step 200 - Loss: 0.000002\n",
      "Step 400 - Loss: 0.000010\n",
      "Step 600 - Loss: 0.000001\n",
      "Epoch 13\n",
      "Step 0 - Loss: 0.000881\n",
      "Step 200 - Loss: 0.000029\n",
      "Step 400 - Loss: 0.000045\n",
      "Step 600 - Loss: 0.000028\n",
      "Epoch 14\n",
      "Step 0 - Loss: 0.002174\n",
      "Step 200 - Loss: 0.000001\n",
      "Step 400 - Loss: 0.000005\n",
      "Step 600 - Loss: 0.000011\n",
      "Epoch 15\n",
      "Step 0 - Loss: 0.000851\n",
      "Step 200 - Loss: 0.000015\n",
      "Step 400 - Loss: 0.000026\n",
      "Step 600 - Loss: 0.000041\n",
      "Epoch 16\n",
      "Step 0 - Loss: 0.001807\n",
      "Step 200 - Loss: 0.000001\n",
      "Step 400 - Loss: 0.000003\n",
      "Step 600 - Loss: 0.000022\n",
      "Epoch 17\n",
      "Step 0 - Loss: 0.000886\n",
      "Step 200 - Loss: 0.000008\n",
      "Step 400 - Loss: 0.000016\n",
      "Step 600 - Loss: 0.000033\n",
      "Epoch 18\n",
      "Step 0 - Loss: 0.001734\n",
      "Step 200 - Loss: 0.000000\n",
      "Step 400 - Loss: 0.000002\n",
      "Step 600 - Loss: 0.000026\n",
      "Epoch 19\n",
      "Step 0 - Loss: 0.000892\n",
      "Step 200 - Loss: 0.000004\n",
      "Step 400 - Loss: 0.000009\n",
      "Step 600 - Loss: 0.000021\n",
      "Epoch 20\n",
      "Step 0 - Loss: 0.001643\n",
      "Step 200 - Loss: 0.000000\n",
      "Step 400 - Loss: 0.000001\n",
      "Step 600 - Loss: 0.000026\n",
      "Epoch 21\n",
      "Step 0 - Loss: 0.000910\n",
      "Step 200 - Loss: 0.000002\n",
      "Step 400 - Loss: 0.000005\n",
      "Step 600 - Loss: 0.000010\n",
      "Epoch 22\n",
      "Step 0 - Loss: 0.001459\n",
      "Step 200 - Loss: 0.000002\n",
      "Step 400 - Loss: 0.000001\n",
      "Step 600 - Loss: 0.000019\n",
      "Epoch 23\n",
      "Step 0 - Loss: 0.000972\n",
      "Step 200 - Loss: 0.000001\n",
      "Step 400 - Loss: 0.000004\n",
      "Step 600 - Loss: 0.000003\n",
      "Epoch 24\n",
      "Step 0 - Loss: 0.001264\n",
      "Step 200 - Loss: 0.000004\n",
      "Step 400 - Loss: 0.000001\n",
      "Step 600 - Loss: 0.000009\n",
      "Epoch 25\n",
      "Step 0 - Loss: 0.000974\n",
      "Step 200 - Loss: 0.000000\n",
      "Step 400 - Loss: 0.000003\n",
      "Step 600 - Loss: 0.000000\n",
      "Epoch 26\n",
      "Step 0 - Loss: 0.001071\n",
      "Step 200 - Loss: 0.000004\n",
      "Step 400 - Loss: 0.000001\n",
      "Step 600 - Loss: 0.000003\n",
      "Epoch 27\n",
      "Step 0 - Loss: 0.000926\n",
      "Step 200 - Loss: 0.000000\n",
      "Step 400 - Loss: 0.000003\n",
      "Step 600 - Loss: 0.000002\n",
      "Epoch 28\n",
      "Step 0 - Loss: 0.000850\n",
      "Step 200 - Loss: 0.000003\n",
      "Step 400 - Loss: 0.000002\n",
      "Step 600 - Loss: 0.000000\n",
      "Epoch 29\n",
      "Step 0 - Loss: 0.000788\n",
      "Step 200 - Loss: 0.000000\n",
      "Step 400 - Loss: 0.000005\n",
      "Step 600 - Loss: 0.000011\n",
      "Epoch 30\n",
      "Step 0 - Loss: 0.000700\n",
      "Step 200 - Loss: 0.000002\n",
      "Step 400 - Loss: 0.000003\n",
      "Step 600 - Loss: 0.000004\n",
      "Epoch 31\n",
      "Step 0 - Loss: 0.000596\n",
      "Step 200 - Loss: 0.000002\n",
      "Step 400 - Loss: 0.000007\n",
      "Step 600 - Loss: 0.000026\n",
      "Epoch 32\n",
      "Step 0 - Loss: 0.000520\n",
      "Step 200 - Loss: 0.000000\n",
      "Step 400 - Loss: 0.000007\n",
      "Step 600 - Loss: 0.000012\n",
      "Epoch 33\n",
      "Step 0 - Loss: 0.000495\n",
      "Step 200 - Loss: 0.000002\n",
      "Step 400 - Loss: 0.000010\n",
      "Step 600 - Loss: 0.000042\n",
      "Epoch 34\n",
      "Step 0 - Loss: 0.000370\n",
      "Step 200 - Loss: 0.000000\n",
      "Step 400 - Loss: 0.000007\n",
      "Step 600 - Loss: 0.000014\n",
      "Epoch 35\n",
      "Step 0 - Loss: 0.000293\n",
      "Step 200 - Loss: 0.000004\n",
      "Step 400 - Loss: 0.000013\n",
      "Step 600 - Loss: 0.000063\n",
      "Epoch 36\n",
      "Step 0 - Loss: 0.000284\n",
      "Step 200 - Loss: 0.000000\n",
      "Step 400 - Loss: 0.000013\n",
      "Step 600 - Loss: 0.000018\n",
      "Epoch 37\n",
      "Step 0 - Loss: 0.000263\n",
      "Step 200 - Loss: 0.000004\n",
      "Step 400 - Loss: 0.000016\n",
      "Step 600 - Loss: 0.000041\n",
      "Epoch 38\n",
      "Step 0 - Loss: 0.000224\n",
      "Step 200 - Loss: 0.000000\n",
      "Step 400 - Loss: 0.000010\n",
      "Step 600 - Loss: 0.000014\n",
      "Epoch 39\n",
      "Step 0 - Loss: 0.000195\n",
      "Step 200 - Loss: 0.000005\n",
      "Step 400 - Loss: 0.000019\n",
      "Step 600 - Loss: 0.000057\n",
      "Epoch 40\n",
      "Step 0 - Loss: 0.000167\n",
      "Step 200 - Loss: 0.000002\n",
      "Step 400 - Loss: 0.000013\n",
      "Step 600 - Loss: 0.000005\n",
      "Epoch 41\n",
      "Step 0 - Loss: 0.000215\n",
      "Step 200 - Loss: 0.000005\n",
      "Step 400 - Loss: 0.000022\n",
      "Step 600 - Loss: 0.000066\n",
      "Epoch 42\n",
      "Step 0 - Loss: 0.000138\n",
      "Step 200 - Loss: 0.000001\n",
      "Step 400 - Loss: 0.000008\n",
      "Step 600 - Loss: 0.000008\n",
      "Epoch 43\n",
      "Step 0 - Loss: 0.000152\n",
      "Step 200 - Loss: 0.000005\n",
      "Step 400 - Loss: 0.000016\n",
      "Step 600 - Loss: 0.000032\n",
      "Epoch 44\n",
      "Step 0 - Loss: 0.000071\n",
      "Step 200 - Loss: 0.000001\n",
      "Step 400 - Loss: 0.000013\n",
      "Step 600 - Loss: 0.000004\n",
      "Epoch 45\n",
      "Step 0 - Loss: 0.000150\n",
      "Step 200 - Loss: 0.000002\n",
      "Step 400 - Loss: 0.000019\n",
      "Step 600 - Loss: 0.000056\n",
      "Epoch 46\n",
      "Step 0 - Loss: 0.000066\n",
      "Step 200 - Loss: 0.000001\n",
      "Step 400 - Loss: 0.000008\n",
      "Step 600 - Loss: 0.000001\n",
      "Epoch 47\n",
      "Step 0 - Loss: 0.000184\n",
      "Step 200 - Loss: 0.000002\n",
      "Step 400 - Loss: 0.000022\n",
      "Step 600 - Loss: 0.000045\n",
      "Epoch 48\n",
      "Step 0 - Loss: 0.000058\n",
      "Step 200 - Loss: 0.000001\n",
      "Step 400 - Loss: 0.000013\n",
      "Step 600 - Loss: 0.000003\n",
      "Epoch 49\n",
      "Step 0 - Loss: 0.000175\n",
      "Step 200 - Loss: 0.000001\n",
      "Step 400 - Loss: 0.000020\n",
      "Step 600 - Loss: 0.000040\n",
      "Epoch 50\n",
      "Step 0 - Loss: 0.000052\n",
      "Step 200 - Loss: 0.000001\n",
      "Step 400 - Loss: 0.000003\n",
      "Step 600 - Loss: 0.000000\n",
      "Epoch 51\n",
      "Step 0 - Loss: 0.000161\n",
      "Step 200 - Loss: 0.000000\n",
      "Step 400 - Loss: 0.000020\n",
      "Step 600 - Loss: 0.000034\n",
      "Epoch 52\n",
      "Step 0 - Loss: 0.000035\n",
      "Step 200 - Loss: 0.000001\n",
      "Step 400 - Loss: 0.000006\n",
      "Step 600 - Loss: 0.000000\n",
      "Epoch 53\n",
      "Step 0 - Loss: 0.000141\n",
      "Step 200 - Loss: 0.000000\n",
      "Step 400 - Loss: 0.000018\n",
      "Step 600 - Loss: 0.000020\n",
      "Epoch 54\n",
      "Step 0 - Loss: 0.000018\n",
      "Step 200 - Loss: 0.000000\n",
      "Step 400 - Loss: 0.000003\n",
      "Step 600 - Loss: 0.000001\n",
      "Epoch 55\n",
      "Step 0 - Loss: 0.000109\n",
      "Step 200 - Loss: 0.000000\n",
      "Step 400 - Loss: 0.000019\n",
      "Step 600 - Loss: 0.000016\n",
      "Epoch 56\n",
      "Step 0 - Loss: 0.000016\n",
      "Step 200 - Loss: 0.000001\n",
      "Step 400 - Loss: 0.000017\n",
      "Step 600 - Loss: 0.000000\n",
      "Epoch 57\n",
      "Step 0 - Loss: 0.000110\n",
      "Step 200 - Loss: 0.000000\n",
      "Step 400 - Loss: 0.000019\n",
      "Step 600 - Loss: 0.000013\n",
      "Epoch 58\n",
      "Step 0 - Loss: 0.000010\n",
      "Step 200 - Loss: 0.000000\n",
      "Step 400 - Loss: 0.000002\n",
      "Step 600 - Loss: 0.000002\n",
      "Epoch 59\n",
      "Step 0 - Loss: 0.000096\n",
      "Step 200 - Loss: 0.000000\n",
      "Step 400 - Loss: 0.000017\n",
      "Step 600 - Loss: 0.000010\n",
      "Epoch 60\n",
      "Step 0 - Loss: 0.000005\n",
      "Step 200 - Loss: 0.000001\n",
      "Step 400 - Loss: 0.000012\n",
      "Step 600 - Loss: 0.000001\n",
      "Epoch 61\n",
      "Step 0 - Loss: 0.000095\n",
      "Step 200 - Loss: 0.000000\n",
      "Step 400 - Loss: 0.000017\n",
      "Step 600 - Loss: 0.000004\n",
      "Epoch 62\n",
      "Step 0 - Loss: 0.000004\n",
      "Step 200 - Loss: 0.000000\n",
      "Step 400 - Loss: 0.000001\n",
      "Step 600 - Loss: 0.000009\n",
      "Epoch 63\n",
      "Step 0 - Loss: 0.000062\n",
      "Step 200 - Loss: 0.000000\n",
      "Step 400 - Loss: 0.000014\n",
      "Step 600 - Loss: 0.000002\n",
      "Epoch 64\n",
      "Step 0 - Loss: 0.000000\n",
      "Step 200 - Loss: 0.000000\n",
      "Step 400 - Loss: 0.000009\n",
      "Step 600 - Loss: 0.000005\n",
      "Epoch 65\n",
      "Step 0 - Loss: 0.000061\n",
      "Step 200 - Loss: 0.000000\n",
      "Step 400 - Loss: 0.000013\n",
      "Step 600 - Loss: 0.000000\n",
      "Epoch 66\n",
      "Step 0 - Loss: 0.000000\n",
      "Step 200 - Loss: 0.000000\n",
      "Step 400 - Loss: 0.000001\n",
      "Step 600 - Loss: 0.000019\n",
      "Epoch 67\n",
      "Step 0 - Loss: 0.000050\n",
      "Step 200 - Loss: 0.000000\n",
      "Step 400 - Loss: 0.000010\n",
      "Step 600 - Loss: 0.000000\n",
      "Epoch 68\n",
      "Step 0 - Loss: 0.000000\n",
      "Step 200 - Loss: 0.000000\n",
      "Step 400 - Loss: 0.000003\n",
      "Step 600 - Loss: 0.000017\n",
      "Epoch 69\n",
      "Step 0 - Loss: 0.000048\n",
      "Step 200 - Loss: 0.000000\n",
      "Step 400 - Loss: 0.000011\n",
      "Step 600 - Loss: 0.000000\n",
      "Epoch 70\n",
      "Step 0 - Loss: 0.000000\n",
      "Step 200 - Loss: 0.000000\n",
      "Step 400 - Loss: 0.000000\n",
      "Step 600 - Loss: 0.000025\n",
      "Epoch 71\n",
      "Step 0 - Loss: 0.000036\n",
      "Step 200 - Loss: 0.000001\n",
      "Step 400 - Loss: 0.000008\n",
      "Step 600 - Loss: 0.000000\n",
      "Epoch 72\n",
      "Step 0 - Loss: 0.000000\n",
      "Step 200 - Loss: 0.000001\n",
      "Step 400 - Loss: 0.000000\n",
      "Step 600 - Loss: 0.000020\n",
      "Epoch 73\n",
      "Step 0 - Loss: 0.000045\n",
      "Step 200 - Loss: 0.000000\n",
      "Step 400 - Loss: 0.000010\n",
      "Step 600 - Loss: 0.000000\n",
      "Epoch 74\n",
      "Step 0 - Loss: 0.000001\n"
     ]
    },
    {
     "name": "stdout",
     "output_type": "stream",
     "text": [
      "Step 200 - Loss: 0.000000\n",
      "Step 400 - Loss: 0.000000\n",
      "Step 600 - Loss: 0.000029\n",
      "Epoch 75\n",
      "Step 0 - Loss: 0.000024\n",
      "Step 200 - Loss: 0.000000\n",
      "Step 400 - Loss: 0.000009\n",
      "Step 600 - Loss: 0.000004\n",
      "Epoch 76\n",
      "Step 0 - Loss: 0.000002\n",
      "Step 200 - Loss: 0.000000\n",
      "Step 400 - Loss: 0.000000\n",
      "Step 600 - Loss: 0.000023\n",
      "Epoch 77\n",
      "Step 0 - Loss: 0.000025\n",
      "Step 200 - Loss: 0.000000\n",
      "Step 400 - Loss: 0.000009\n",
      "Step 600 - Loss: 0.000002\n",
      "Epoch 78\n",
      "Step 0 - Loss: 0.000001\n",
      "Step 200 - Loss: 0.000001\n",
      "Step 400 - Loss: 0.000000\n",
      "Step 600 - Loss: 0.000037\n",
      "Epoch 79\n",
      "Step 0 - Loss: 0.000018\n",
      "Step 200 - Loss: 0.000000\n",
      "Step 400 - Loss: 0.000010\n",
      "Step 600 - Loss: 0.000004\n",
      "Epoch 80\n",
      "Step 0 - Loss: 0.000003\n",
      "Step 200 - Loss: 0.000000\n",
      "Step 400 - Loss: 0.000000\n",
      "Step 600 - Loss: 0.000025\n",
      "Epoch 81\n",
      "Step 0 - Loss: 0.000020\n",
      "Step 200 - Loss: 0.000000\n",
      "Step 400 - Loss: 0.000008\n",
      "Step 600 - Loss: 0.000005\n",
      "Epoch 82\n",
      "Step 0 - Loss: 0.000001\n",
      "Step 200 - Loss: 0.000001\n",
      "Step 400 - Loss: 0.000002\n",
      "Step 600 - Loss: 0.000037\n",
      "Epoch 83\n",
      "Step 0 - Loss: 0.000018\n",
      "Step 200 - Loss: 0.000000\n",
      "Step 400 - Loss: 0.000011\n",
      "Step 600 - Loss: 0.000002\n",
      "Epoch 84\n",
      "Step 0 - Loss: 0.000002\n",
      "Step 200 - Loss: 0.000000\n",
      "Step 400 - Loss: 0.000000\n",
      "Step 600 - Loss: 0.000023\n",
      "Epoch 85\n",
      "Step 0 - Loss: 0.000015\n",
      "Step 200 - Loss: 0.000000\n",
      "Step 400 - Loss: 0.000008\n",
      "Step 600 - Loss: 0.000007\n",
      "Epoch 86\n",
      "Step 0 - Loss: 0.000002\n",
      "Step 200 - Loss: 0.000000\n",
      "Step 400 - Loss: 0.000000\n",
      "Step 600 - Loss: 0.000024\n",
      "Epoch 87\n",
      "Step 0 - Loss: 0.000016\n",
      "Step 200 - Loss: 0.000000\n",
      "Step 400 - Loss: 0.000009\n",
      "Step 600 - Loss: 0.000001\n",
      "Epoch 88\n",
      "Step 0 - Loss: 0.000001\n",
      "Step 200 - Loss: 0.000000\n",
      "Step 400 - Loss: 0.000002\n",
      "Step 600 - Loss: 0.000024\n",
      "Epoch 89\n",
      "Step 0 - Loss: 0.000014\n",
      "Step 200 - Loss: 0.000000\n",
      "Step 400 - Loss: 0.000007\n",
      "Step 600 - Loss: 0.000004\n",
      "Epoch 90\n",
      "Step 0 - Loss: 0.000003\n",
      "Step 200 - Loss: 0.000000\n",
      "Step 400 - Loss: 0.000000\n",
      "Step 600 - Loss: 0.000001\n",
      "Epoch 91\n",
      "Step 0 - Loss: 0.000018\n",
      "Step 200 - Loss: 0.000000\n",
      "Step 400 - Loss: 0.000010\n",
      "Step 600 - Loss: 0.000000\n",
      "Epoch 92\n",
      "Step 0 - Loss: 0.000001\n",
      "Step 200 - Loss: 0.000000\n",
      "Step 400 - Loss: 0.000000\n",
      "Step 600 - Loss: 0.000031\n",
      "Epoch 93\n",
      "Step 0 - Loss: 0.000005\n",
      "Step 200 - Loss: 0.000000\n",
      "Step 400 - Loss: 0.000007\n",
      "Step 600 - Loss: 0.000000\n",
      "Epoch 94\n",
      "Step 0 - Loss: 0.000002\n",
      "Step 200 - Loss: 0.000000\n",
      "Step 400 - Loss: 0.000000\n",
      "Step 600 - Loss: 0.000004\n",
      "Epoch 95\n",
      "Step 0 - Loss: 0.000013\n",
      "Step 200 - Loss: 0.000000\n",
      "Step 400 - Loss: 0.000009\n",
      "Step 600 - Loss: 0.000000\n",
      "Epoch 96\n",
      "Step 0 - Loss: 0.000001\n",
      "Step 200 - Loss: 0.000000\n",
      "Step 400 - Loss: 0.000000\n",
      "Step 600 - Loss: 0.000026\n",
      "Epoch 97\n",
      "Step 0 - Loss: 0.000006\n",
      "Step 200 - Loss: 0.000000\n",
      "Step 400 - Loss: 0.000008\n",
      "Step 600 - Loss: 0.000000\n",
      "Epoch 98\n",
      "Step 0 - Loss: 0.000001\n",
      "Step 200 - Loss: 0.000000\n",
      "Step 400 - Loss: 0.000000\n",
      "Step 600 - Loss: 0.000002\n",
      "Epoch 99\n",
      "Step 0 - Loss: 0.000014\n",
      "Step 200 - Loss: 0.000000\n",
      "Step 400 - Loss: 0.000010\n",
      "Step 600 - Loss: 0.000000\n"
     ]
    }
   ],
   "source": [
    "loss_list = []\n",
    "test_pred_list = []\n",
    "\n",
    "with tf.Session() as sess:\n",
    "    \n",
    "    tf.global_variables_initializer().run()\n",
    "    \n",
    "    for epoch_idx in range(num_epochs):\n",
    "                \n",
    "        print('Epoch %d' %epoch_idx)\n",
    "        \n",
    "        for batch_idx in range(num_batches):\n",
    "            start_idx = batch_idx * truncated_backprop_length\n",
    "            end_idx = start_idx + truncated_backprop_length * batch_size\n",
    "        \n",
    "            \n",
    "            batchX = xTrain[start_idx:end_idx,:].reshape(batch_size,truncated_backprop_length,num_features)\n",
    "            batchY = yTrain[start_idx:end_idx].reshape(batch_size,truncated_backprop_length,1)\n",
    "                \n",
    "            #print('IDXs',start_idx,end_idx)\n",
    "            #print('X',batchX.shape,batchX)\n",
    "            #print('Y',batchX.shape,batchY)\n",
    "            \n",
    "            feed = {batchX_placeholder : batchX, batchY_placeholder : batchY}\n",
    "            \n",
    "            #TRAIN!\n",
    "            _loss,_train_step,_pred,_last_label,_prediction = sess.run(\n",
    "                fetches=[loss,train_step,prediction,last_label,prediction],\n",
    "                feed_dict = feed\n",
    "            )\n",
    "            \n",
    "            loss_list.append(_loss)\n",
    "            \n",
    "           \n",
    "            \n",
    "            if(batch_idx % 200 == 0):\n",
    "                print('Step %d - Loss: %.6f' %(batch_idx,_loss))\n",
    "                \n",
    "    #TEST\n",
    "    \n",
    "    \n",
    "    for test_idx in range(len(xTest) - truncated_backprop_length):\n",
    "        \n",
    "        testBatchX = xTest[test_idx:test_idx+truncated_backprop_length,:].reshape((1,truncated_backprop_length,num_features))        \n",
    "        testBatchY = yTest[test_idx:test_idx+truncated_backprop_length].reshape((1,truncated_backprop_length,1))\n",
    "\n",
    "        \n",
    "        #_current_state = np.zeros((batch_size,state_size))\n",
    "        feed = {batchX_placeholder : testBatchX,\n",
    "            batchY_placeholder : testBatchY}\n",
    "\n",
    "        #Test_pred contains 'window_size' predictions, we want the last one\n",
    "        _last_state,_last_label,test_pred = sess.run([last_state,last_label,prediction],feed_dict=feed)\n",
    "        test_pred_list.append(test_pred[-1][0]) #The last one"
   ]
  },
  {
   "cell_type": "code",
   "execution_count": 25,
   "metadata": {},
   "outputs": [
    {
     "data": {
      "image/png": "[encoded data removed]",
      "text/plain": [
       "<matplotlib.figure.Figure at 0x1186086d8>"
      ]
     },
     "metadata": {},
     "output_type": "display_data"
    }
   ],
   "source": [
    "import matplotlib.pyplot as plt\n",
    "%matplotlib inline\n",
    "plt.title('Loss')\n",
    "plt.scatter(x=np.arange(0,len(loss_list)),y=loss_list)\n",
    "plt.xlabel('epochs')\n",
    "plt.ylabel('loss')\n",
    "plt.show();"
   ]
  },
  {
   "cell_type": "code",
   "execution_count": 26,
   "metadata": {
    "scrolled": false
   },
   "outputs": [
    {
     "data": {
      "image/png": "[encoded data removed]",
      "text/plain": [
       "<matplotlib.figure.Figure at 0x1190b8780>"
      ]
     },
     "metadata": {},
     "output_type": "display_data"
    }
   ],
   "source": [
    "\n",
    "plt.figure(figsize=(21,7))\n",
    "plt.plot(yTest,label='Price',color='blue')\n",
    "plt.plot(test_pred_list,label='Predicted',color='red')\n",
    "plt.title('Price vs Predicted')\n",
    "plt.legend(loc='upper left')\n",
    "plt.savefig('../result/BTC-'+currency+'-PriceVsPrediction.png')\n",
    "plt.show()"
   ]
  },
  {
   "cell_type": "markdown",
   "metadata": {},
   "source": [
    "## References\n",
    "- [Siraj Raval - Youtube - Quantum Computing - The Math of Intelligence #10](https://www.youtube.com/watch?v=LhtnECml-KI)\n",
    "- [SirajsCodingChallenges by Alberto Blanco Garcés](https://github.com/alberduris/SirajsCodingChallenges)\n",
    "- [A simple deep learning model for stock price prediction using TensorFlow](https://medium.com/mlreview/a-simple-deep-learning-model-for-stock-price-prediction-using-tensorflow-30505541d877)"
   ]
  },
  {
   "cell_type": "code",
   "execution_count": null,
   "metadata": {},
   "outputs": [],
   "source": []
  }
 ],
 "metadata": {
  "kernelspec": {
   "display_name": "Python 3",
   "language": "python",
   "name": "python3"
  },
  "language_info": {
   "codemirror_mode": {
    "name": "ipython",
    "version": 3
   },
   "file_extension": ".py",
   "mimetype": "text/x-python",
   "name": "python",
   "nbconvert_exporter": "python",
   "pygments_lexer": "ipython3",
   "version": "3.6.3"
  }
 },
 "nbformat": 4,
 "nbformat_minor": 2
}
